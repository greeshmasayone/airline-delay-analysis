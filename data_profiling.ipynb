{
 "cells": [
  {
   "cell_type": "markdown",
   "id": "de6f16cf-dbee-4dfa-9030-685b18613637",
   "metadata": {},
   "source": [
    "**FINDING THE NULL COUNT**"
   ]
  },
  {
   "cell_type": "code",
   "execution_count": 1,
   "id": "c5129057-9565-429a-99f1-2f962c7bf51a",
   "metadata": {},
   "outputs": [],
   "source": [
    "from pyspark.sql import SparkSession\n",
    "from pyspark.sql.functions import col, sum, min, max"
   ]
  },
  {
   "cell_type": "code",
   "execution_count": 2,
   "id": "7b23a823-ad7e-4f60-ad87-c57952fe5802",
   "metadata": {},
   "outputs": [
    {
     "name": "stderr",
     "output_type": "stream",
     "text": [
      "23/12/04 16:18:35 WARN Utils: Your hostname, sayone-Lenovo-V15-G2-ITL-Ua resolves to a loopback address: 127.0.1.1; using 192.168.1.103 instead (on interface wlp0s20f3)\n",
      "23/12/04 16:18:35 WARN Utils: Set SPARK_LOCAL_IP if you need to bind to another address\n",
      "Setting default log level to \"WARN\".\n",
      "To adjust logging level use sc.setLogLevel(newLevel). For SparkR, use setLogLevel(newLevel).\n",
      "23/12/04 16:18:36 WARN NativeCodeLoader: Unable to load native-hadoop library for your platform... using builtin-java classes where applicable\n"
     ]
    }
   ],
   "source": [
    "spark = SparkSession.builder.appName(\"profiling\").getOrCreate()"
   ]
  },
  {
   "cell_type": "code",
   "execution_count": 23,
   "id": "b917a25b-bd67-4cac-9c2e-a16b0d792ad9",
   "metadata": {},
   "outputs": [],
   "source": [
    "file_path = \"/home/sayone/Downloads/airline/2009.csv\"\n"
   ]
  },
  {
   "cell_type": "code",
   "execution_count": 24,
   "id": "ea76d6ca-b899-4ef5-b6c3-25e0adbbb026",
   "metadata": {},
   "outputs": [
    {
     "name": "stderr",
     "output_type": "stream",
     "text": [
      "                                                                                \r"
     ]
    }
   ],
   "source": [
    "df = spark.read.csv(file_path, header=True, inferSchema=True)"
   ]
  },
  {
   "cell_type": "code",
   "execution_count": 166,
   "id": "a2278862-1453-47c4-94c6-1e91ff80779f",
   "metadata": {},
   "outputs": [],
   "source": [
    "target_column = \"NAS_DELAY\""
   ]
  },
  {
   "cell_type": "code",
   "execution_count": 26,
   "id": "509dbfb0-873c-45fc-8b89-1afcc0506ee9",
   "metadata": {},
   "outputs": [
    {
     "name": "stderr",
     "output_type": "stream",
     "text": [
      "                                                                                \r"
     ]
    }
   ],
   "source": [
    "null_count = df.filter(col(target_column).isNull()).count()"
   ]
  },
  {
   "cell_type": "code",
   "execution_count": 27,
   "id": "8b3a89bc-b5c8-4733-8b34-35b8232c150f",
   "metadata": {},
   "outputs": [
    {
     "name": "stdout",
     "output_type": "stream",
     "text": [
      "Null count in 'DEP_DELAY': 82867\n"
     ]
    }
   ],
   "source": [
    "print(f\"Null count in '{target_column}': {null_count}\")"
   ]
  },
  {
   "cell_type": "markdown",
   "id": "2d631513-a5b3-48bc-bbd8-3cba628d5ae5",
   "metadata": {},
   "source": [
    "**FINDING THE DUPLICATE COUNT**"
   ]
  },
  {
   "cell_type": "code",
   "execution_count": 28,
   "id": "fb413775-bbb5-4177-8d0b-7c2dc38c661b",
   "metadata": {},
   "outputs": [],
   "source": [
    "duplicate_counts = df.groupBy(target_column).count().filter(col(\"count\") > 1)\n"
   ]
  },
  {
   "cell_type": "code",
   "execution_count": 29,
   "id": "1824474b-3f4b-44a0-b63a-f280a2bf9ac4",
   "metadata": {},
   "outputs": [
    {
     "name": "stderr",
     "output_type": "stream",
     "text": [
      "                                                                                \r"
     ]
    },
    {
     "data": {
      "text/plain": [
       "836"
      ]
     },
     "execution_count": 29,
     "metadata": {},
     "output_type": "execute_result"
    }
   ],
   "source": [
    "duplicate_counts.count()\n"
   ]
  },
  {
   "cell_type": "markdown",
   "id": "85296c86-c6ab-4f76-a8d7-eb2a41bed068",
   "metadata": {},
   "source": [
    "**FINDING DISTINCT COUNT**"
   ]
  },
  {
   "cell_type": "code",
   "execution_count": 30,
   "id": "067a41dc-832f-4971-bbdf-0cbec650dd0f",
   "metadata": {},
   "outputs": [
    {
     "name": "stderr",
     "output_type": "stream",
     "text": [
      "                                                                                \r"
     ]
    }
   ],
   "source": [
    "distinct_count = df.select(target_column).distinct().count()\n"
   ]
  },
  {
   "cell_type": "code",
   "execution_count": 31,
   "id": "667baecd-6cd0-476a-8aff-5d6b2f110a8b",
   "metadata": {},
   "outputs": [
    {
     "name": "stdout",
     "output_type": "stream",
     "text": [
      "Distinct count in 'DEP_DELAY': 1049\n"
     ]
    }
   ],
   "source": [
    "print(f\"Distinct count in '{target_column}': {distinct_count}\")"
   ]
  },
  {
   "cell_type": "markdown",
   "id": "4e6903db-290e-49a4-91ad-5eb7a8857fff",
   "metadata": {},
   "source": [
    "**FINDING THE MIN VALUE OF A COLUMN**"
   ]
  },
  {
   "cell_type": "code",
   "execution_count": 160,
   "id": "db0240b8-02fb-4e52-a397-d6aa7eb8fb22",
   "metadata": {},
   "outputs": [
    {
     "name": "stderr",
     "output_type": "stream",
     "text": [
      "                                                                                \r"
     ]
    }
   ],
   "source": [
    "min_value = df.agg(min(col(target_column)).alias(\"min_value\")).collect()[0][\"min_value\"]"
   ]
  },
  {
   "cell_type": "code",
   "execution_count": 161,
   "id": "585f2c57-9212-4914-b6ae-685795ec7ad3",
   "metadata": {},
   "outputs": [
    {
     "name": "stdout",
     "output_type": "stream",
     "text": [
      "Minimum value in 'SECURITY_DELAY': 0.0\n"
     ]
    }
   ],
   "source": [
    "print(f\"Minimum value in '{target_column}': {min_value}\")"
   ]
  },
  {
   "cell_type": "markdown",
   "id": "9f79ff54-e5e6-4ac8-abf8-93dc6bf972d2",
   "metadata": {},
   "source": [
    "**FINDING THE MAX VALUE OF A FUNCTION**"
   ]
  },
  {
   "cell_type": "code",
   "execution_count": null,
   "id": "2d949eb6-4347-41b6-a03d-02cd38141a63",
   "metadata": {},
   "outputs": [
    {
     "name": "stderr",
     "output_type": "stream",
     "text": [
      "[Stage 188:>                                                        (0 + 8) / 8]\r"
     ]
    }
   ],
   "source": [
    "max_value = df.agg(max(col(target_column)).alias(\"max_value\")).collect()[0][\"max_value\"]"
   ]
  },
  {
   "cell_type": "code",
   "execution_count": 163,
   "id": "92116543-91eb-434a-a2b5-7479d206c50e",
   "metadata": {},
   "outputs": [
    {
     "name": "stdout",
     "output_type": "stream",
     "text": [
      "Maximum value in 'SECURITY_DELAY': 345.0\n"
     ]
    }
   ],
   "source": [
    "print(f\"Maximum value in '{target_column}': {max_value}\")"
   ]
  },
  {
   "cell_type": "markdown",
   "id": "3a453fad-4cb1-489c-a0e2-e6d4b3438f29",
   "metadata": {},
   "source": [
    "**FINDING THE DEFAULT VALUE IN A COLUMN**"
   ]
  },
  {
   "cell_type": "code",
   "execution_count": 164,
   "id": "cf77753c-2eac-4dac-97fe-2bfd426e3f54",
   "metadata": {},
   "outputs": [
    {
     "name": "stderr",
     "output_type": "stream",
     "text": [
      "                                                                                \r"
     ]
    }
   ],
   "source": [
    "mode_value = df.groupBy(target_column).count().orderBy(col(\"count\").desc()).select(target_column).first()[0]"
   ]
  },
  {
   "cell_type": "code",
   "execution_count": 165,
   "id": "606e6e28-338d-4820-8880-fa3c6564d930",
   "metadata": {},
   "outputs": [
    {
     "name": "stdout",
     "output_type": "stream",
     "text": [
      "Representative 'default' value in 'SECURITY_DELAY': None\n"
     ]
    }
   ],
   "source": [
    "print(f\"Representative 'default' value in '{target_column}': {mode_value}\")"
   ]
  }
 ],
 "metadata": {
  "kernelspec": {
   "display_name": "Python 3 (ipykernel)",
   "language": "python",
   "name": "python3"
  },
  "language_info": {
   "codemirror_mode": {
    "name": "ipython",
    "version": 3
   },
   "file_extension": ".py",
   "mimetype": "text/x-python",
   "name": "python",
   "nbconvert_exporter": "python",
   "pygments_lexer": "ipython3",
   "version": "3.8.10"
  }
 },
 "nbformat": 4,
 "nbformat_minor": 5
}
