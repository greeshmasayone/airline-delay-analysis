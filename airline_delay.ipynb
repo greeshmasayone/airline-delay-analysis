{
 "cells": [
  {
   "cell_type": "code",
   "execution_count": 1,
   "id": "a7f8b360-cd97-41c5-b00b-515283c83444",
   "metadata": {},
   "outputs": [],
   "source": [
    "from pyspark.sql import SparkSession"
   ]
  },
  {
   "cell_type": "code",
   "execution_count": 9,
   "id": "1adc26c1-431a-45b6-9918-f1201adc4cba",
   "metadata": {},
   "outputs": [],
   "source": [
    "import altair as alt\n",
    "import pyspark.sql.functions as F\n",
    "import pyspark.sql.types as T \n"
   ]
  },
  {
   "cell_type": "code",
   "execution_count": 10,
   "id": "65182e9d-0df8-41c2-b05b-0e8b7ae3c914",
   "metadata": {},
   "outputs": [],
   "source": [
    "spark = SparkSession.builder.appName(\"data analysis\").getOrCreate()"
   ]
  },
  {
   "cell_type": "code",
   "execution_count": 11,
   "id": "3300530e-21bd-4ffa-96fc-611c7f19454f",
   "metadata": {},
   "outputs": [],
   "source": [
    "file_paths = [\"/home/sayone/Downloads/airline/2009.csv\", \"/home/sayone/Downloads/airline/2010.csv\", \"/home/sayone/Downloads/airline/2011.csv\", \"/home/sayone/Downloads/airline/2012.csv\", \"/home/sayone/Downloads/airline/2013.csv\", \"/home/sayone/Downloads/airline/2014.csv\", \"/home/sayone/Downloads/airline/2015.csv\", \"/home/sayone/Downloads/airline/2016.csv\", \"/home/sayone/Downloads/airline/2017.csv\", \"/home/sayone/Downloads/airline/2018.csv\"]\n",
    "\n"
   ]
  },
  {
   "cell_type": "code",
   "execution_count": 12,
   "id": "1147c1e9-2e82-4fbd-bf5e-79c7aa7faa27",
   "metadata": {},
   "outputs": [
    {
     "name": "stderr",
     "output_type": "stream",
     "text": [
      "                                                                                \r"
     ]
    }
   ],
   "source": [
    "dfs = [spark.read.csv(file, header=True, inferSchema=True) for file in file_paths]"
   ]
  },
  {
   "cell_type": "code",
   "execution_count": 14,
   "id": "4ed6059c-9028-4f35-87f4-0b80de901ce2",
   "metadata": {},
   "outputs": [
    {
     "name": "stdout",
     "output_type": "stream",
     "text": [
      "DataFrame 1:\n",
      "DataFrame 2:\n",
      "DataFrame 3:\n",
      "DataFrame 4:\n",
      "DataFrame 5:\n",
      "DataFrame 6:\n",
      "DataFrame 7:\n",
      "DataFrame 8:\n",
      "DataFrame 9:\n",
      "DataFrame 10:\n"
     ]
    }
   ],
   "source": [
    "# Display the first few rows of each DataFrame\n",
    "\n",
    "for i, df in enumerate(dfs):\n",
    "    print(f\"DataFrame {i + 1}:\")"
   ]
  },
  {
   "cell_type": "code",
   "execution_count": null,
   "id": "7b904245-bf90-4aeb-89d6-68f027f0a8f6",
   "metadata": {},
   "outputs": [],
   "source": [
    "#Loading the data"
   ]
  },
  {
   "cell_type": "code",
   "execution_count": 15,
   "id": "63f4e809-fd1f-45dd-a565-a333b331f686",
   "metadata": {},
   "outputs": [],
   "source": [
    "file_names_range = list(range(2009, 2018))\n",
    "file_paths = [\"/home/sayone/Downloads/airline/2009.csv\", \"/home/sayone/Downloads/airline/2010.csv\", \"/home/sayone/Downloads/airline/2011.csv\", \"/home/sayone/Downloads/airline/2012.csv\", \"/home/sayone/Downloads/airline/2013.csv\", \"/home/sayone/Downloads/airline/2014.csv\", \"/home/sayone/Downloads/airline/2015.csv\", \"/home/sayone/Downloads/airline/2016.csv\", \"/home/sayone/Downloads/airline/2017.csv\", \"/home/sayone/Downloads/airline/2018.csv\"]\n"
   ]
  },
  {
   "cell_type": "code",
   "execution_count": 16,
   "id": "3c117230-2f6c-4764-b05f-efcd3d12edf0",
   "metadata": {},
   "outputs": [],
   "source": [
    "schema = T.StructType([\n",
    "    T.StructField(\"FL_DATE\", T.TimestampType(), nullable=True),\n",
    "    T.StructField(\"OP_CARRIER\", T.StringType(), nullable=True),\n",
    "    T.StructField(\"OP_CARRIER_FL_NUM\", T.IntegerType(), nullable=True),\n",
    "    T.StructField(\"ORIGIN\", T.StringType(), nullable=True),\n",
    "    T.StructField(\"DEST\", T.StringType(), nullable=True),\n",
    "    T.StructField(\"CRS_DEP_TIME\", T.DoubleType(), nullable=True),\n",
    "    T.StructField(\"DEP_TIME\", T.DoubleType(), nullable=True),\n",
    "    T.StructField(\"DEP_DELAY\", T.DoubleType(), nullable=True),\n",
    "    T.StructField(\"TAXI_OUT\", T.DoubleType(), nullable=True),\n",
    "    T.StructField(\"WHEELS_OFF\", T.DoubleType(), nullable=True),\n",
    "    T.StructField(\"WHEELS_ON\", T.DoubleType(), nullable=True),\n",
    "    T.StructField(\"TAXI_IN\", T.DoubleType(), nullable=True),\n",
    "    T.StructField(\"CRS_ARR_TIME\", T.DoubleType(), nullable=True),\n",
    "    T.StructField(\"ARR_TIME\",T.DoubleType(), nullable=True),\n",
    "    T.StructField(\"ARR_DELAY\", T.DoubleType(), nullable=True),\n",
    "    T.StructField(\"CANCELLED\", T.DoubleType(), nullable=True),\n",
    "    T.StructField(\"CANCELLATION_CODE\", T.StringType(), nullable=True),\n",
    "    T.StructField(\"DIVERTED\", T.DoubleType(), nullable=True),\n",
    "    T.StructField(\"CRS_ELAPSED_TIME\", T.DoubleType(), nullable=True),\n",
    "    T.StructField(\"ACTUAL_ELAPSED_TIME\", T.DoubleType(), nullable=True),\n",
    "    T.StructField(\"AIR_TIME\", T.DoubleType(), nullable=True),\n",
    "    T.StructField(\"DISTANCE\", T.DoubleType(), nullable=True),\n",
    "    T.StructField(\"CARRIER_DELAY\", T.DoubleType(), nullable=True),\n",
    "    T.StructField(\"WEATHER_DELAY\", T.DoubleType(), nullable=True),\n",
    "    T.StructField(\"NAS_DELAY\", T.DoubleType(), nullable=True),\n",
    "    T.StructField(\"SECURITY_DELAY\", T.DoubleType(), nullable=True),\n",
    "    T.StructField(\"LATE_AIRCRAFT_DELAY\", T.DoubleType(), nullable=True),\n",
    "    T.StructField(\"Unnamed: 27\", T.StringType(), nullable=True)\n",
    "])"
   ]
  },
  {
   "cell_type": "code",
   "execution_count": 17,
   "id": "52fab8a6-bc69-44b1-a135-586795669a23",
   "metadata": {},
   "outputs": [],
   "source": [
    "df = spark.read.schema(schema).format(\"csv\").option(\"header\", \"true\").load(file_paths)\n"
   ]
  },
  {
   "cell_type": "code",
   "execution_count": 18,
   "id": "2d0acaa9-bb58-4b53-9556-c30f5543a9eb",
   "metadata": {},
   "outputs": [],
   "source": [
    "# remove null values from the cols used for classification:\n",
    "df = df.dropna(subset= [\n",
    "    'FL_DATE',\n",
    " 'OP_CARRIER',\n",
    " 'OP_CARRIER_FL_NUM',\n",
    " 'ORIGIN',\n",
    " 'DEST',\n",
    " 'CRS_DEP_TIME',\n",
    " 'CRS_ARR_TIME',\n",
    " 'CANCELLED',\n",
    " 'DIVERTED',\n",
    " 'CRS_ELAPSED_TIME',\n",
    " 'DISTANCE'])\n"
   ]
  },
  {
   "cell_type": "code",
   "execution_count": 19,
   "id": "e2957724-cea8-4764-8b3e-4d3e7abaaa39",
   "metadata": {},
   "outputs": [],
   "source": [
    "# save df for analysis\n",
    "analysis_df = df"
   ]
  }
 ],
 "metadata": {
  "kernelspec": {
   "display_name": "Python 3 (ipykernel)",
   "language": "python",
   "name": "python3"
  },
  "language_info": {
   "codemirror_mode": {
    "name": "ipython",
    "version": 3
   },
   "file_extension": ".py",
   "mimetype": "text/x-python",
   "name": "python",
   "nbconvert_exporter": "python",
   "pygments_lexer": "ipython3",
   "version": "3.8.10"
  }
 },
 "nbformat": 4,
 "nbformat_minor": 5
}
